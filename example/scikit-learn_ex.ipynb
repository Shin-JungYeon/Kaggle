{
 "cells": [
  {
   "cell_type": "code",
   "execution_count": 8,
   "metadata": {},
   "outputs": [
    {
     "name": "stdout",
     "output_type": "stream",
     "text": [
      "test accuracy  1.00\n",
      "test accuracy  1.00\n",
      "[2 1 0 2 2 1 2 0 2 2 0 1 1 1 1 2 0 2 2 0 1 2 1 0 0 0 0 0 1 1 1 1 2 1 1 2 2\n",
      " 1]\n",
      "0 cluster: [2 2 2 2 2 2 2 1 2 2 2 2 2 2 2 1 2 2 2 2 2 2 2 2 1 2 2 2 2]\n",
      "1 cluster: [0 0 0 0 0 0 0 0 0 0 0 0 0 0 0 0 0 0 0 0 0 0 0 0 0 0 0 0 0 0 0 0 0 0 0]\n",
      "2 cluster: [2 1 1 1 2 1 1 1 1 1 2 1 1 1 2 2 2 1 1 1 1 1 2 1 1 1 1 2 1 1 1 2 1 1 1 1 1\n",
      " 1 1 1 1 1 1 2 2 1 2 1]\n"
     ]
    }
   ],
   "source": [
    "# 지도/비지도 학습 예시\n",
    "from sklearn.datasets import load_iris\n",
    "from sklearn.model_selection import train_test_split\n",
    "\n",
    "iris_dataset = load_iris()\n",
    "target = iris_dataset['target']  # label\n",
    "\n",
    "# train/test 데이터 분리\n",
    "train_input, test_input, train_label, test_label = train_test_split(iris_dataset['data'], \n",
    "                                                                    target, \n",
    "                                                                    test_size = 0.25, # test data의 비율\n",
    "                                                                    random_state = 42 # random seed 값)\n",
    "\n",
    "# 지도학습 모델 중 k-nn 모델\n",
    "from sklearn.neighbors import KNeighborsClassifier\n",
    "knn = KNeighborsClassifier(n_neighbors = 1)\n",
    "\n",
    "knn.fit(train_input, train_label) # 분류기 모델에 학습 데이터와 label 데이터 적용\n",
    "\n",
    "predict_label = knn.predict(test_input) # 분류기 모델의 결과 예측\n",
    "\n",
    "import numpy as np\n",
    "print('test accuracy {: .2f}'.format(np.mean(test_label == predict_label))) # 정확도 출력1\n",
    "\n",
    "from sklearn.metrics import accuracy_score\n",
    "print('test accuracy {: .2f}'.format(accuracy_score(test_label, predict_label))) # 정확도 출력2\n",
    "\n",
    "# 비지도학습 모델 중 k-means 모델\n",
    "from sklearn.cluster import KMeans\n",
    "k_means = KMeans(n_clusters=3)\n",
    "k_means.fit(train_input)\n",
    "predict_cluster = k_means.predict(test_input)\n",
    "print(predict_cluster)\n",
    "\n",
    "# 단, 군집의 순서와 label의 값은 다를 수 있음. 예를 들어 0번째 군집에 라벨 1인 데이터들이 주로 분포할 수 있음.\n",
    "print(\"0 cluster:\", train_label[k_means.labels_ == 0])\n",
    "print(\"1 cluster:\", train_label[k_means.labels_ == 1])\n",
    "print(\"2 cluster:\", train_label[k_means.labels_ == 2])"
   ]
  },
  {
   "cell_type": "code",
   "execution_count": null,
   "metadata": {},
   "outputs": [],
   "source": []
  }
 ],
 "metadata": {
  "kernelspec": {
   "display_name": "Python 3",
   "language": "python",
   "name": "python3"
  },
  "language_info": {
   "codemirror_mode": {
    "name": "ipython",
    "version": 3
   },
   "file_extension": ".py",
   "mimetype": "text/x-python",
   "name": "python",
   "nbconvert_exporter": "python",
   "pygments_lexer": "ipython3",
   "version": "3.7.6"
  }
 },
 "nbformat": 4,
 "nbformat_minor": 4
}
