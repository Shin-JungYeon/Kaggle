{
 "cells": [
  {
   "cell_type": "code",
   "execution_count": 14,
   "metadata": {},
   "outputs": [
    {
     "ename": "TypeError",
     "evalue": "string indices must be integers",
     "output_type": "error",
     "traceback": [
      "\u001b[1;31m---------------------------------------------------------------------------\u001b[0m",
      "\u001b[1;31mTypeError\u001b[0m                                 Traceback (most recent call last)",
      "\u001b[1;32m<ipython-input-14-adbf47c3ba67>\u001b[0m in \u001b[0;36m<module>\u001b[1;34m\u001b[0m\n\u001b[0;32m     11\u001b[0m \u001b[1;33m\u001b[0m\u001b[0m\n\u001b[0;32m     12\u001b[0m \u001b[1;32mfor\u001b[0m \u001b[0mdataset\u001b[0m \u001b[1;32min\u001b[0m \u001b[0mdata\u001b[0m\u001b[1;33m:\u001b[0m\u001b[1;33m\u001b[0m\u001b[1;33m\u001b[0m\u001b[0m\n\u001b[1;32m---> 13\u001b[1;33m     \u001b[0mdataset\u001b[0m\u001b[1;33m[\u001b[0m\u001b[1;34m'ageBand'\u001b[0m\u001b[1;33m]\u001b[0m \u001b[1;33m=\u001b[0m \u001b[0mpd\u001b[0m\u001b[1;33m.\u001b[0m\u001b[0mcut\u001b[0m\u001b[1;33m(\u001b[0m\u001b[0mdataset\u001b[0m\u001b[1;33m[\u001b[0m\u001b[1;34m'age'\u001b[0m\u001b[1;33m]\u001b[0m\u001b[1;33m,\u001b[0m \u001b[1;36m5\u001b[0m\u001b[1;33m)\u001b[0m\u001b[1;33m\u001b[0m\u001b[1;33m\u001b[0m\u001b[0m\n\u001b[0m\u001b[0;32m     14\u001b[0m \u001b[1;33m\u001b[0m\u001b[0m\n\u001b[0;32m     15\u001b[0m \u001b[0mprint\u001b[0m\u001b[1;33m(\u001b[0m\u001b[0mdata\u001b[0m\u001b[1;33m[\u001b[0m\u001b[1;33m[\u001b[0m\u001b[1;34m'ageBand'\u001b[0m\u001b[1;33m,\u001b[0m \u001b[0mloan_status\u001b[0m\u001b[1;33m]\u001b[0m\u001b[1;33m]\u001b[0m\u001b[1;33m.\u001b[0m\u001b[0mgroupby\u001b[0m\u001b[1;33m(\u001b[0m\u001b[1;33m[\u001b[0m\u001b[1;34m'ageBand'\u001b[0m\u001b[1;33m]\u001b[0m\u001b[1;33m,\u001b[0m \u001b[0mas_index\u001b[0m\u001b[1;33m=\u001b[0m\u001b[1;32mFalse\u001b[0m\u001b[1;33m)\u001b[0m\u001b[1;33m.\u001b[0m\u001b[0mmean\u001b[0m\u001b[1;33m(\u001b[0m\u001b[1;33m)\u001b[0m\u001b[1;33m)\u001b[0m\u001b[1;33m\u001b[0m\u001b[1;33m\u001b[0m\u001b[0m\n",
      "\u001b[1;31mTypeError\u001b[0m: string indices must be integers"
     ]
    }
   ],
   "source": [
    "# https://www.kaggle.com/zhijinzhai/loandata\n",
    "# https://redhorse046.tistory.com/15#introduction-problem-setting\n",
    "\n",
    "import pandas as pd\n",
    "\n",
    "data = pd.read_csv(r'C:\\Users\\ssjy1\\kaggle\\loan_data\\loan_payments_data.csv')\n",
    "\n",
    "data.head(10)\n",
    "data.tail(10)\n",
    "\n",
    "#data.info()\n",
    "\n",
    "data.isnull().sum()\n",
    "\n",
    "for dataset in data:\n",
    "    dataset['ageBand'] = pd.cut(dataset['age'], 5)\n",
    "    \n",
    "print(data[['ageBand', loan_status]].groupby(['ageBand'], as_index=False).mean())\n",
    "\n",
    "# def feature_engineering(df):\n",
    "#     # Loan_ID : 사용 X\n",
    "#     # paid_off_time : 사용 X\n",
    "#     # past_due_days : 사용 X\n",
    "#     df.drop(['Loan_ID', 'paid_off_time', 'past_due_days'], axis=1, inplace=True)\n",
    "    \n",
    "#     # loan_status : 대출 상환은 성공 / 대출 미납, 기한 지난 후 상환은 실패로 간주.\n",
    "#     df['loan_status'] = df['loan_status'].replace('PAIDOFF', 'Success')\n",
    "#     df['loan_status'] = df['loan_status'].replace(['COLLECTION_PAIDOFF', 'COLLECTION'], 'Failure')\n",
    "#     df['loan_status'] = df['loan_status'].map({'Failure': 0, 'Success': 1})\n",
    "    \n",
    "#     # Principal\n",
    "    \n",
    "#     # terms\n",
    "    \n",
    "#     # effective_date\n",
    "    \n",
    "#     # due_date\n",
    "    \n",
    "#     # age\n",
    "    \n",
    "#     # education\n",
    "#     df['education'] = df['education'].map({'High School or Below': 0, 'college': 1, 'Bechalor': 2, 'Master or Above': 3})\n",
    "    \n",
    "#     # Gender\n",
    "#     df['Gender'] = df['Gender'].map({'female': 0, 'male': 1})\n",
    "    \n",
    "#     return df\n"
   ]
  },
  {
   "cell_type": "code",
   "execution_count": null,
   "metadata": {},
   "outputs": [],
   "source": []
  }
 ],
 "metadata": {
  "kernelspec": {
   "display_name": "Python 3",
   "language": "python",
   "name": "python3"
  },
  "language_info": {
   "codemirror_mode": {
    "name": "ipython",
    "version": 3
   },
   "file_extension": ".py",
   "mimetype": "text/x-python",
   "name": "python",
   "nbconvert_exporter": "python",
   "pygments_lexer": "ipython3",
   "version": "3.7.6"
  }
 },
 "nbformat": 4,
 "nbformat_minor": 4
}
