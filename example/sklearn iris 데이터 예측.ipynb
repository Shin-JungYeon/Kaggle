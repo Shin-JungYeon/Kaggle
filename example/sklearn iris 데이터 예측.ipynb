{
 "cells": [
  {
   "cell_type": "code",
   "execution_count": 17,
   "metadata": {},
   "outputs": [
    {
     "name": "stdout",
     "output_type": "stream",
     "text": [
      "아이리스 종류 : ['setosa' 'versicolor' 'virginica']\n",
      "target : [0:setosa, 1:versicolor, 2:virginica]\n",
      "데어터 수 : 150\n",
      "데이터 열 이름 : ['sepal length (cm)', 'sepal width (cm)', 'petal length (cm)', 'petal width (cm)']\n",
      "\n",
      "\n",
      "   sepal length  sepal width  petal length  petal width  species\n",
      "0           5.1          3.5           1.4          0.2        0\n",
      "1           4.9          3.0           1.4          0.2        0\n",
      "2           4.7          3.2           1.3          0.2        0\n",
      "3           4.6          3.1           1.5          0.2        0\n",
      "4           5.0          3.6           1.4          0.2        0\n",
      "5           5.4          3.9           1.7          0.4        0\n",
      "6           4.6          3.4           1.4          0.3        0\n",
      "7           5.0          3.4           1.5          0.2        0\n",
      "8           4.4          2.9           1.4          0.2        0\n",
      "9           4.9          3.1           1.5          0.1        0\n",
      "\n",
      "\n",
      "테스트 데이터\n",
      "105\n",
      "45\n",
      "105\n",
      "45\n",
      "\n",
      "\n",
      "[0 2 0 2 0 1 1 1 1 0 1 0 1 1 0 0 2 2 0 0 1 2 2 2 2 2 0 1 1 1 2 2 0 0 1 1 0\n",
      " 0 1 1 1 2 1 1 1]\n",
      "[0, 2, 0, 2, 0, 2, 1, 1, 1, 0, 1, 0, 1, 1, 0, 0, 2, 2, 0, 0, 1, 2, 2, 2, 1, 2, 0, 1, 1, 1, 2, 2, 0, 0, 1, 1, 0, 0, 1, 1, 1, 2, 1, 1, 2]\n",
      "\n",
      "\n",
      "정확도 : 0.9333333333333333\n"
     ]
    }
   ],
   "source": [
    "import pandas as pd\n",
    " \n",
    "from sklearn import datasets\n",
    "from sklearn.model_selection import train_test_split\n",
    "from sklearn.ensemble import RandomForestClassifier\n",
    "from sklearn import metrics\n",
    " \n",
    "if __name__ == '__main__':\n",
    "    iris = datasets.load_iris()\n",
    "    print('아이리스 종류 :', iris.target_names)\n",
    "    print('target : [0:setosa, 1:versicolor, 2:virginica]')\n",
    "    print('데어터 수 :', len(iris.data))\n",
    "    print('데이터 열 이름 :', iris.feature_names)\n",
    "    print('\\n')\n",
    " \n",
    "    # iris data Dataframe으로\n",
    "    data = pd.DataFrame(\n",
    "        {\n",
    "            'sepal length': iris.data[:, 0],\n",
    "            'sepal width': iris.data[:, 1],\n",
    "            'petal length': iris.data[:, 2],\n",
    "            'petal width': iris.data[:, 3],\n",
    "            'species': iris.target\n",
    "        }\n",
    "    )\n",
    "    print(data.head(10))\n",
    "    print('\\n')\n",
    " \n",
    "    x = data[['sepal length', 'sepal width', 'petal length', 'petal width']]\n",
    "    y = data['species']\n",
    " \n",
    "    # 테스트 데이터 30%\n",
    "    x_train, x_test, y_train, y_test = train_test_split(x, y, test_size=0.3)\n",
    "    print('테스트 데이터')\n",
    "    print(len(x_train))\n",
    "    print(len(x_test))\n",
    "    print(len(y_train))\n",
    "    print(len(y_test))\n",
    "    print('\\n')\n",
    " \n",
    "    # 학습 진행\n",
    "    forest = RandomForestClassifier(n_estimators=100, criterion=\"entropy\", max_depth=5, oob_score=True, random_state=10)\n",
    "    forest.fit(x_train, y_train)\n",
    " \n",
    "    # 예측\n",
    "    y_pred = forest.predict(x_test)\n",
    "    print(y_pred)\n",
    "    print(list(y_test))\n",
    "    print('\\n')\n",
    " \n",
    "    # 정확도 확인\n",
    "    print('정확도 :', metrics.accuracy_score(y_test, y_pred))"
   ]
  },
  {
   "cell_type": "code",
   "execution_count": null,
   "metadata": {},
   "outputs": [],
   "source": []
  },
  {
   "cell_type": "code",
   "execution_count": null,
   "metadata": {},
   "outputs": [],
   "source": []
  }
 ],
 "metadata": {
  "kernelspec": {
   "display_name": "Python 3",
   "language": "python",
   "name": "python3"
  },
  "language_info": {
   "codemirror_mode": {
    "name": "ipython",
    "version": 3
   },
   "file_extension": ".py",
   "mimetype": "text/x-python",
   "name": "python",
   "nbconvert_exporter": "python",
   "pygments_lexer": "ipython3",
   "version": "3.7.6"
  }
 },
 "nbformat": 4,
 "nbformat_minor": 4
}
